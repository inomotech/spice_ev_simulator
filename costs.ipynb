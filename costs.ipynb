{
 "cells": [
  {
   "cell_type": "code",
   "execution_count": 13,
   "metadata": {},
   "outputs": [
    {
     "data": {
      "text/plain": [
       "2450"
      ]
     },
     "execution_count": 13,
     "metadata": {},
     "output_type": "execute_result"
    }
   ],
   "source": [
    "import pandas as pd\n",
    "# show all columns\n",
    "pd.set_option('display.max_columns', None)\n",
    "\n",
    "35*10*7"
   ]
  },
  {
   "cell_type": "code",
   "execution_count": 23,
   "metadata": {},
   "outputs": [
    {
     "name": "stdout",
     "output_type": "stream",
     "text": [
      "days: 7.0\n",
      "total consumption -2618.4205\n",
      "daily consumption -374.06007142857146\n",
      "total cost -261.84205\n",
      "-195.8578534\n",
      "-0.023201009921821187\n"
     ]
    }
   ],
   "source": [
    "df = pd.read_csv(\"tmp/1_greedy/timeseries.csv\")\n",
    "# print(df.columns)\n",
    "print(\"days:\", len(df)/4/24)\n",
    "total_consumption = df[\"grid supply [kW]\"].sum()/4 \n",
    "print(\"total consumption\", total_consumption) # ok\n",
    "print(\"daily consumption\", df[\"grid supply [kW]\"].sum()/4/7)\n",
    "total_cost = df.apply(lambda r: r[\"grid supply [kW]\"]*r[\"price [EUR/kWh]\"]/4, axis=1).sum()\n",
    "print(\"total cost\", total_cost)\n",
    "# df\n",
    "print(total_consumption*7.48/100)\n",
    "print(60.75/total_consumption) # commodity cost calculated by lib / total consumption\n"
   ]
  },
  {
   "cell_type": "code",
   "execution_count": null,
   "metadata": {},
   "outputs": [],
   "source": []
  }
 ],
 "metadata": {
  "kernelspec": {
   "display_name": "Python 3",
   "language": "python",
   "name": "python3"
  },
  "language_info": {
   "codemirror_mode": {
    "name": "ipython",
    "version": 3
   },
   "file_extension": ".py",
   "mimetype": "text/x-python",
   "name": "python",
   "nbconvert_exporter": "python",
   "pygments_lexer": "ipython3",
   "version": "3.12.3"
  }
 },
 "nbformat": 4,
 "nbformat_minor": 2
}
